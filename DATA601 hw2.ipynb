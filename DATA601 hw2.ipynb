{
 "cells": [
  {
   "cell_type": "code",
   "execution_count": 1,
   "metadata": {},
   "outputs": [],
   "source": [
    "#import requests and json\n",
    "\n",
    "import requests \n",
    "import json"
   ]
  },
  {
   "cell_type": "code",
   "execution_count": 2,
   "metadata": {},
   "outputs": [],
   "source": [
    "#download unique API key\n",
    "API_KEY = 'RDpwTBJCNfbiNIuRpOXx4p6LcWht1KZunA-ER6K0LCs1-b6UMjMiQ-9sz_r9iE5KQf71s1wwK1LU3r1BW9KIYUScW1pS6WA3PllmX1gVDJXHK4gGi5uGJq39GoaEX3Yx'\n",
    "\n",
    "#API URL\n",
    "ENDPOINT = 'https://api.yelp.com/v3/businesses/search'\n",
    "HEADERS = {'Authorization' : 'bearer %s' % API_KEY}"
   ]
  },
  {
   "cell_type": "code",
   "execution_count": 3,
   "metadata": {},
   "outputs": [],
   "source": [
    "#Set up parameters\n",
    "#I chose to look up taco places in Baltimore\n",
    "\n",
    "PARAMETERS = {'term' : 'tacos',\n",
    "             'limit' : 50,\n",
    "             'radius' : 10000,\n",
    "             'location' : 'Baltimore'}"
   ]
  },
  {
   "cell_type": "code",
   "execution_count": 4,
   "metadata": {},
   "outputs": [],
   "source": [
    "#set up response\n",
    "\n",
    "response = requests.get(url = ENDPOINT, params = PARAMETERS, headers = HEADERS)"
   ]
  },
  {
   "cell_type": "code",
   "execution_count": 5,
   "metadata": {},
   "outputs": [],
   "source": [
    "#put the data from response request into a json file\n",
    "\n",
    "business_data = response.json()"
   ]
  },
  {
   "cell_type": "code",
   "execution_count": 6,
   "metadata": {},
   "outputs": [],
   "source": [
    "#import pandas\n",
    "\n",
    "import pandas as pd\n",
    "import matplotlib.pyplot as plt\n",
    "plt.rcParams.update({'font.size': 7})"
   ]
  },
  {
   "cell_type": "code",
   "execution_count": 7,
   "metadata": {},
   "outputs": [
    {
     "data": {
      "text/plain": [
       "dict_keys(['businesses', 'total', 'region'])"
      ]
     },
     "execution_count": 7,
     "metadata": {},
     "output_type": "execute_result"
    }
   ],
   "source": [
    "#view the keys of business_data\n",
    "\n",
    "business_data.keys()"
   ]
  },
  {
   "cell_type": "code",
   "execution_count": 8,
   "metadata": {},
   "outputs": [
    {
     "data": {
      "text/plain": [
       "list"
      ]
     },
     "execution_count": 8,
     "metadata": {},
     "output_type": "execute_result"
    }
   ],
   "source": [
    "#check the type of business_data\n",
    "\n",
    "type(business_data['businesses'])"
   ]
  },
  {
   "cell_type": "code",
   "execution_count": 9,
   "metadata": {},
   "outputs": [
    {
     "data": {
      "text/plain": [
       "50"
      ]
     },
     "execution_count": 9,
     "metadata": {},
     "output_type": "execute_result"
    }
   ],
   "source": [
    "#check how many items are in business_data\n",
    "\n",
    "len(business_data['businesses'])"
   ]
  },
  {
   "cell_type": "code",
   "execution_count": 10,
   "metadata": {},
   "outputs": [
    {
     "data": {
      "text/plain": [
       "-76.574345"
      ]
     },
     "execution_count": 10,
     "metadata": {},
     "output_type": "execute_result"
    }
   ],
   "source": [
    "#check longitude of item 15 in dataset\n",
    "\n",
    "a_business_data = business_data['businesses'][15]\n",
    "a_business_data['coordinates']['longitude']\n"
   ]
  },
  {
   "cell_type": "code",
   "execution_count": 11,
   "metadata": {},
   "outputs": [],
   "source": [
    "# define a function that takes a business dictionary from YELP-API and returns: name, rating, latitude, longtitude, and number of reviews\n",
    "\n",
    "def get_business_data(a_business_data):\n",
    "    name = a_business_data['name']\n",
    "    rating = a_business_data['rating']\n",
    "    latitude = a_business_data['coordinates']['latitude']\n",
    "    longitude = a_business_data['coordinates']['longitude']\n",
    "    numOFreviews = a_business_data['review_count']\n",
    "   \n",
    "\n",
    "    return [name, rating, latitude, longitude, numOFreviews]"
   ]
  },
  {
   "cell_type": "code",
   "execution_count": 12,
   "metadata": {},
   "outputs": [
    {
     "data": {
      "text/plain": [
       "['La China Poblana Restaurant', 4.5, 39.2869148254395, -76.5546035766602, 9]"
      ]
     },
     "execution_count": 12,
     "metadata": {},
     "output_type": "execute_result"
    }
   ],
   "source": [
    "#see data for item 44\n",
    "\n",
    "get_business_data(business_data['businesses'][44])"
   ]
  },
  {
   "cell_type": "code",
   "execution_count": 14,
   "metadata": {
    "scrolled": true
   },
   "outputs": [
    {
     "name": "stdout",
     "output_type": "stream",
     "text": [
      "['Tortilleria Sinaloa', 4.5, 39.28581, -76.59251, 372]\n",
      "['Vida Taco Bar - Baltimore', 4.0, 39.280318, -76.59764, 193]\n",
      "['Cocina Luchadoras', 4.5, 39.2883838, -76.5933878, 148]\n",
      "['Clavel', 4.5, 39.314946584723, -76.6203730332442, 711]\n",
      "['Tijuana Tacos 3', 4.0, 39.2920875549316, -76.5746078491211, 177]\n",
      "[\"Papi's Tacos\", 4.0, 39.283377, -76.5928519, 477]\n",
      "['Taco Town', 4.5, 39.2892446828, -76.6216612093, 51]\n",
      "['Taqueria el Sabor del Parque', 4.0, 39.2860908508301, -76.5756454467773, 110]\n",
      "['Mi Comalito', 4.0, 39.31336, -76.61637, 123]\n",
      "['La Cabana', 4.0, 39.2947755, -76.52450017, 12]\n",
      "['San Pablo Street Tacos', 3.5, 39.298802, -76.614407, 47]\n",
      "[\"Papi's Tacos - Hampden\", 4.0, 39.33427, -76.63626, 94]\n",
      "[\"Cholita's Tacos\", 4.0, 39.2959652152407, -76.6190895438194, 69]\n",
      "['Pop Tacos', 4.5, 39.2765, -76.61351, 179]\n",
      "['Cinco de Mayo Dos', 4.5, 39.2853751, -76.5985652, 79]\n",
      "['El Taquito Leon', 4.0, 39.385012, -76.574345, 6]\n",
      "['Taco Noche Rotunda', 4.0, 39.33571, -76.63049, 2]\n",
      "['Taqueria El Cabrito', 5.0, 39.24939, -76.69338, 22]\n",
      "['Charmed.', 5.0, 39.29951, -76.61334, 55]\n",
      "['Amano Taco', 3.0, 39.3218115370698, -76.6220275093727, 66]\n",
      "['La Calle', 4.5, 39.2891718122298, -76.6109826413995, 162]\n",
      "['Banditos Bar & Kitchen', 3.5, 39.27626, -76.61468, 172]\n",
      "['Chilangos Tequila Bar and Grill', 4.5, 39.281597418086, -76.589390784502, 47]\n",
      "['Taco Fiesta', 3.5, 39.2835848, -76.6000152, 233]\n",
      "['Maximón', 4.0, 39.2823709940055, -76.6024878356167, 64]\n",
      "['Blue Agave Restaurante y Tequileria', 3.5, 39.2772546161823, -76.6124973859833, 468]\n",
      "['Los Mariachis Spanish Restaurant', 4.5, 39.2856903076172, -76.5849380493164, 37]\n",
      "['Charro Negro Bar & Grill', 4.0, 39.2868882527188, -76.5567009888982, 10]\n",
      "['Cinco De Mayo Tacqueria Y Tortilleria', 4.0, 39.2873065889081, -76.5691595524549, 21]\n",
      "[\"Ruben's\", 4.5, 39.27728, -76.61415, 53]\n",
      "['R&R Taqueria', 3.0, 39.2878409, -76.6148311313576, 65]\n",
      "['Guacamole Mexican Cuisine', 4.0, 39.249619, -76.638821, 5]\n",
      "['Barcocina', 3.0, 39.2811636353814, -76.5932388536857, 679]\n",
      "['El Taquito Mexicano', 3.5, 39.2858009464664, -76.5917270463678, 60]\n",
      "['R. House', 4.0, 39.3217129089992, -76.6222934424877, 479]\n",
      "['El Trovador Latin Grill', 4.5, 39.389036, -76.542737, 162]\n",
      "['Cinco De Mayo Restaurant', 4.0, 39.2858123779297, -76.5924606323242, 28]\n",
      "['Holy Frijoles', 3.0, 39.331645, -76.632153, 352]\n",
      "['Little Havana', 3.5, 39.2747550402053, -76.6032127251292, 454]\n",
      "['The Jolly Pig', 4.5, 39.3111957, -76.616473, 29]\n",
      "['Los Tres Hermanos', 4.5, 39.29165, -76.5658, 3]\n",
      "['Poblano Mexican Grill', 3.5, 39.3018601799824, -76.6187377087944, 93]\n",
      "['El Bufalo Tequila Bar & Kitchen', 3.5, 39.2800022, -76.5746036, 108]\n",
      "[\"Woody's Cantina\", 3.0, 39.28199, -76.59269, 149]\n",
      "['La China Poblana Restaurant', 4.5, 39.2869148254395, -76.5546035766602, 9]\n",
      "['The Latin Spot Grill', 5.0, 39.275796, -76.614553, 1]\n",
      "['Gypsy Queen Truckstaurant', 4.0, 39.328529, -76.640227, 129]\n",
      "['Los Rancheros', 3.5, 39.35264, -76.56163, 33]\n",
      "['Mount Vernon Marketplace', 4.5, 39.295902, -76.618819, 219]\n",
      "['La Food Marketa', 4.0, 39.38455, -76.68971, 223]\n"
     ]
    }
   ],
   "source": [
    "#load business data and save it\n",
    "\n",
    "businesses_list = []\n",
    "for business in business_data['businesses']:\n",
    "    row = get_business_data(business) \n",
    "    businesses_list.append(row)\n",
    "    \n",
    "    print(get_business_data(business))"
   ]
  },
  {
   "cell_type": "code",
   "execution_count": 15,
   "metadata": {},
   "outputs": [],
   "source": [
    "# Put data into data frame and name the columns\n",
    "\n",
    "businessDF = pd.DataFrame(businesses_list, columns = ['Name', 'Rating', 'Latitude', 'Longitude', 'Number_of_Reviews'])"
   ]
  },
  {
   "cell_type": "code",
   "execution_count": 16,
   "metadata": {},
   "outputs": [],
   "source": [
    "# save data frame as a csv file\n",
    "\n",
    "businessDF.to_csv('businesses.csv')"
   ]
  },
  {
   "cell_type": "code",
   "execution_count": 17,
   "metadata": {},
   "outputs": [
    {
     "data": {
      "text/html": [
       "<div>\n",
       "<style scoped>\n",
       "    .dataframe tbody tr th:only-of-type {\n",
       "        vertical-align: middle;\n",
       "    }\n",
       "\n",
       "    .dataframe tbody tr th {\n",
       "        vertical-align: top;\n",
       "    }\n",
       "\n",
       "    .dataframe thead th {\n",
       "        text-align: right;\n",
       "    }\n",
       "</style>\n",
       "<table border=\"1\" class=\"dataframe\">\n",
       "  <thead>\n",
       "    <tr style=\"text-align: right;\">\n",
       "      <th></th>\n",
       "      <th>Name</th>\n",
       "      <th>Rating</th>\n",
       "      <th>Latitude</th>\n",
       "      <th>Longitude</th>\n",
       "      <th>Number_of_Reviews</th>\n",
       "    </tr>\n",
       "  </thead>\n",
       "  <tbody>\n",
       "    <tr>\n",
       "      <th>0</th>\n",
       "      <td>Tortilleria Sinaloa</td>\n",
       "      <td>4.5</td>\n",
       "      <td>39.285810</td>\n",
       "      <td>-76.592510</td>\n",
       "      <td>372</td>\n",
       "    </tr>\n",
       "    <tr>\n",
       "      <th>1</th>\n",
       "      <td>Vida Taco Bar - Baltimore</td>\n",
       "      <td>4.0</td>\n",
       "      <td>39.280318</td>\n",
       "      <td>-76.597640</td>\n",
       "      <td>193</td>\n",
       "    </tr>\n",
       "    <tr>\n",
       "      <th>2</th>\n",
       "      <td>Cocina Luchadoras</td>\n",
       "      <td>4.5</td>\n",
       "      <td>39.288384</td>\n",
       "      <td>-76.593388</td>\n",
       "      <td>148</td>\n",
       "    </tr>\n",
       "    <tr>\n",
       "      <th>3</th>\n",
       "      <td>Clavel</td>\n",
       "      <td>4.5</td>\n",
       "      <td>39.314947</td>\n",
       "      <td>-76.620373</td>\n",
       "      <td>711</td>\n",
       "    </tr>\n",
       "    <tr>\n",
       "      <th>4</th>\n",
       "      <td>Tijuana Tacos 3</td>\n",
       "      <td>4.0</td>\n",
       "      <td>39.292088</td>\n",
       "      <td>-76.574608</td>\n",
       "      <td>177</td>\n",
       "    </tr>\n",
       "    <tr>\n",
       "      <th>5</th>\n",
       "      <td>Papi's Tacos</td>\n",
       "      <td>4.0</td>\n",
       "      <td>39.283377</td>\n",
       "      <td>-76.592852</td>\n",
       "      <td>477</td>\n",
       "    </tr>\n",
       "    <tr>\n",
       "      <th>6</th>\n",
       "      <td>Taco Town</td>\n",
       "      <td>4.5</td>\n",
       "      <td>39.289245</td>\n",
       "      <td>-76.621661</td>\n",
       "      <td>51</td>\n",
       "    </tr>\n",
       "    <tr>\n",
       "      <th>7</th>\n",
       "      <td>Taqueria el Sabor del Parque</td>\n",
       "      <td>4.0</td>\n",
       "      <td>39.286091</td>\n",
       "      <td>-76.575645</td>\n",
       "      <td>110</td>\n",
       "    </tr>\n",
       "    <tr>\n",
       "      <th>8</th>\n",
       "      <td>Mi Comalito</td>\n",
       "      <td>4.0</td>\n",
       "      <td>39.313360</td>\n",
       "      <td>-76.616370</td>\n",
       "      <td>123</td>\n",
       "    </tr>\n",
       "    <tr>\n",
       "      <th>9</th>\n",
       "      <td>La Cabana</td>\n",
       "      <td>4.0</td>\n",
       "      <td>39.294776</td>\n",
       "      <td>-76.524500</td>\n",
       "      <td>12</td>\n",
       "    </tr>\n",
       "    <tr>\n",
       "      <th>10</th>\n",
       "      <td>San Pablo Street Tacos</td>\n",
       "      <td>3.5</td>\n",
       "      <td>39.298802</td>\n",
       "      <td>-76.614407</td>\n",
       "      <td>47</td>\n",
       "    </tr>\n",
       "    <tr>\n",
       "      <th>11</th>\n",
       "      <td>Papi's Tacos - Hampden</td>\n",
       "      <td>4.0</td>\n",
       "      <td>39.334270</td>\n",
       "      <td>-76.636260</td>\n",
       "      <td>94</td>\n",
       "    </tr>\n",
       "    <tr>\n",
       "      <th>12</th>\n",
       "      <td>Cholita's Tacos</td>\n",
       "      <td>4.0</td>\n",
       "      <td>39.295965</td>\n",
       "      <td>-76.619090</td>\n",
       "      <td>69</td>\n",
       "    </tr>\n",
       "    <tr>\n",
       "      <th>13</th>\n",
       "      <td>Pop Tacos</td>\n",
       "      <td>4.5</td>\n",
       "      <td>39.276500</td>\n",
       "      <td>-76.613510</td>\n",
       "      <td>179</td>\n",
       "    </tr>\n",
       "    <tr>\n",
       "      <th>14</th>\n",
       "      <td>Cinco de Mayo Dos</td>\n",
       "      <td>4.5</td>\n",
       "      <td>39.285375</td>\n",
       "      <td>-76.598565</td>\n",
       "      <td>79</td>\n",
       "    </tr>\n",
       "    <tr>\n",
       "      <th>15</th>\n",
       "      <td>El Taquito Leon</td>\n",
       "      <td>4.0</td>\n",
       "      <td>39.385012</td>\n",
       "      <td>-76.574345</td>\n",
       "      <td>6</td>\n",
       "    </tr>\n",
       "    <tr>\n",
       "      <th>16</th>\n",
       "      <td>Taco Noche Rotunda</td>\n",
       "      <td>4.0</td>\n",
       "      <td>39.335710</td>\n",
       "      <td>-76.630490</td>\n",
       "      <td>2</td>\n",
       "    </tr>\n",
       "    <tr>\n",
       "      <th>17</th>\n",
       "      <td>Taqueria El Cabrito</td>\n",
       "      <td>5.0</td>\n",
       "      <td>39.249390</td>\n",
       "      <td>-76.693380</td>\n",
       "      <td>22</td>\n",
       "    </tr>\n",
       "    <tr>\n",
       "      <th>18</th>\n",
       "      <td>Charmed.</td>\n",
       "      <td>5.0</td>\n",
       "      <td>39.299510</td>\n",
       "      <td>-76.613340</td>\n",
       "      <td>55</td>\n",
       "    </tr>\n",
       "    <tr>\n",
       "      <th>19</th>\n",
       "      <td>Amano Taco</td>\n",
       "      <td>3.0</td>\n",
       "      <td>39.321812</td>\n",
       "      <td>-76.622028</td>\n",
       "      <td>66</td>\n",
       "    </tr>\n",
       "    <tr>\n",
       "      <th>20</th>\n",
       "      <td>La Calle</td>\n",
       "      <td>4.5</td>\n",
       "      <td>39.289172</td>\n",
       "      <td>-76.610983</td>\n",
       "      <td>162</td>\n",
       "    </tr>\n",
       "    <tr>\n",
       "      <th>21</th>\n",
       "      <td>Banditos Bar &amp; Kitchen</td>\n",
       "      <td>3.5</td>\n",
       "      <td>39.276260</td>\n",
       "      <td>-76.614680</td>\n",
       "      <td>172</td>\n",
       "    </tr>\n",
       "    <tr>\n",
       "      <th>22</th>\n",
       "      <td>Chilangos Tequila Bar and Grill</td>\n",
       "      <td>4.5</td>\n",
       "      <td>39.281597</td>\n",
       "      <td>-76.589391</td>\n",
       "      <td>47</td>\n",
       "    </tr>\n",
       "    <tr>\n",
       "      <th>23</th>\n",
       "      <td>Taco Fiesta</td>\n",
       "      <td>3.5</td>\n",
       "      <td>39.283585</td>\n",
       "      <td>-76.600015</td>\n",
       "      <td>233</td>\n",
       "    </tr>\n",
       "    <tr>\n",
       "      <th>24</th>\n",
       "      <td>Maximón</td>\n",
       "      <td>4.0</td>\n",
       "      <td>39.282371</td>\n",
       "      <td>-76.602488</td>\n",
       "      <td>64</td>\n",
       "    </tr>\n",
       "    <tr>\n",
       "      <th>25</th>\n",
       "      <td>Blue Agave Restaurante y Tequileria</td>\n",
       "      <td>3.5</td>\n",
       "      <td>39.277255</td>\n",
       "      <td>-76.612497</td>\n",
       "      <td>468</td>\n",
       "    </tr>\n",
       "    <tr>\n",
       "      <th>26</th>\n",
       "      <td>Los Mariachis Spanish Restaurant</td>\n",
       "      <td>4.5</td>\n",
       "      <td>39.285690</td>\n",
       "      <td>-76.584938</td>\n",
       "      <td>37</td>\n",
       "    </tr>\n",
       "    <tr>\n",
       "      <th>27</th>\n",
       "      <td>Charro Negro Bar &amp; Grill</td>\n",
       "      <td>4.0</td>\n",
       "      <td>39.286888</td>\n",
       "      <td>-76.556701</td>\n",
       "      <td>10</td>\n",
       "    </tr>\n",
       "    <tr>\n",
       "      <th>28</th>\n",
       "      <td>Cinco De Mayo Tacqueria Y Tortilleria</td>\n",
       "      <td>4.0</td>\n",
       "      <td>39.287307</td>\n",
       "      <td>-76.569160</td>\n",
       "      <td>21</td>\n",
       "    </tr>\n",
       "    <tr>\n",
       "      <th>29</th>\n",
       "      <td>Ruben's</td>\n",
       "      <td>4.5</td>\n",
       "      <td>39.277280</td>\n",
       "      <td>-76.614150</td>\n",
       "      <td>53</td>\n",
       "    </tr>\n",
       "    <tr>\n",
       "      <th>30</th>\n",
       "      <td>R&amp;R Taqueria</td>\n",
       "      <td>3.0</td>\n",
       "      <td>39.287841</td>\n",
       "      <td>-76.614831</td>\n",
       "      <td>65</td>\n",
       "    </tr>\n",
       "    <tr>\n",
       "      <th>31</th>\n",
       "      <td>Guacamole Mexican Cuisine</td>\n",
       "      <td>4.0</td>\n",
       "      <td>39.249619</td>\n",
       "      <td>-76.638821</td>\n",
       "      <td>5</td>\n",
       "    </tr>\n",
       "    <tr>\n",
       "      <th>32</th>\n",
       "      <td>Barcocina</td>\n",
       "      <td>3.0</td>\n",
       "      <td>39.281164</td>\n",
       "      <td>-76.593239</td>\n",
       "      <td>679</td>\n",
       "    </tr>\n",
       "    <tr>\n",
       "      <th>33</th>\n",
       "      <td>El Taquito Mexicano</td>\n",
       "      <td>3.5</td>\n",
       "      <td>39.285801</td>\n",
       "      <td>-76.591727</td>\n",
       "      <td>60</td>\n",
       "    </tr>\n",
       "    <tr>\n",
       "      <th>34</th>\n",
       "      <td>R. House</td>\n",
       "      <td>4.0</td>\n",
       "      <td>39.321713</td>\n",
       "      <td>-76.622293</td>\n",
       "      <td>479</td>\n",
       "    </tr>\n",
       "    <tr>\n",
       "      <th>35</th>\n",
       "      <td>El Trovador Latin Grill</td>\n",
       "      <td>4.5</td>\n",
       "      <td>39.389036</td>\n",
       "      <td>-76.542737</td>\n",
       "      <td>162</td>\n",
       "    </tr>\n",
       "    <tr>\n",
       "      <th>36</th>\n",
       "      <td>Cinco De Mayo Restaurant</td>\n",
       "      <td>4.0</td>\n",
       "      <td>39.285812</td>\n",
       "      <td>-76.592461</td>\n",
       "      <td>28</td>\n",
       "    </tr>\n",
       "    <tr>\n",
       "      <th>37</th>\n",
       "      <td>Holy Frijoles</td>\n",
       "      <td>3.0</td>\n",
       "      <td>39.331645</td>\n",
       "      <td>-76.632153</td>\n",
       "      <td>352</td>\n",
       "    </tr>\n",
       "    <tr>\n",
       "      <th>38</th>\n",
       "      <td>Little Havana</td>\n",
       "      <td>3.5</td>\n",
       "      <td>39.274755</td>\n",
       "      <td>-76.603213</td>\n",
       "      <td>454</td>\n",
       "    </tr>\n",
       "    <tr>\n",
       "      <th>39</th>\n",
       "      <td>The Jolly Pig</td>\n",
       "      <td>4.5</td>\n",
       "      <td>39.311196</td>\n",
       "      <td>-76.616473</td>\n",
       "      <td>29</td>\n",
       "    </tr>\n",
       "    <tr>\n",
       "      <th>40</th>\n",
       "      <td>Los Tres Hermanos</td>\n",
       "      <td>4.5</td>\n",
       "      <td>39.291650</td>\n",
       "      <td>-76.565800</td>\n",
       "      <td>3</td>\n",
       "    </tr>\n",
       "    <tr>\n",
       "      <th>41</th>\n",
       "      <td>Poblano Mexican Grill</td>\n",
       "      <td>3.5</td>\n",
       "      <td>39.301860</td>\n",
       "      <td>-76.618738</td>\n",
       "      <td>93</td>\n",
       "    </tr>\n",
       "    <tr>\n",
       "      <th>42</th>\n",
       "      <td>El Bufalo Tequila Bar &amp; Kitchen</td>\n",
       "      <td>3.5</td>\n",
       "      <td>39.280002</td>\n",
       "      <td>-76.574604</td>\n",
       "      <td>108</td>\n",
       "    </tr>\n",
       "    <tr>\n",
       "      <th>43</th>\n",
       "      <td>Woody's Cantina</td>\n",
       "      <td>3.0</td>\n",
       "      <td>39.281990</td>\n",
       "      <td>-76.592690</td>\n",
       "      <td>149</td>\n",
       "    </tr>\n",
       "    <tr>\n",
       "      <th>44</th>\n",
       "      <td>La China Poblana Restaurant</td>\n",
       "      <td>4.5</td>\n",
       "      <td>39.286915</td>\n",
       "      <td>-76.554604</td>\n",
       "      <td>9</td>\n",
       "    </tr>\n",
       "    <tr>\n",
       "      <th>45</th>\n",
       "      <td>The Latin Spot Grill</td>\n",
       "      <td>5.0</td>\n",
       "      <td>39.275796</td>\n",
       "      <td>-76.614553</td>\n",
       "      <td>1</td>\n",
       "    </tr>\n",
       "    <tr>\n",
       "      <th>46</th>\n",
       "      <td>Gypsy Queen Truckstaurant</td>\n",
       "      <td>4.0</td>\n",
       "      <td>39.328529</td>\n",
       "      <td>-76.640227</td>\n",
       "      <td>129</td>\n",
       "    </tr>\n",
       "    <tr>\n",
       "      <th>47</th>\n",
       "      <td>Los Rancheros</td>\n",
       "      <td>3.5</td>\n",
       "      <td>39.352640</td>\n",
       "      <td>-76.561630</td>\n",
       "      <td>33</td>\n",
       "    </tr>\n",
       "    <tr>\n",
       "      <th>48</th>\n",
       "      <td>Mount Vernon Marketplace</td>\n",
       "      <td>4.5</td>\n",
       "      <td>39.295902</td>\n",
       "      <td>-76.618819</td>\n",
       "      <td>219</td>\n",
       "    </tr>\n",
       "    <tr>\n",
       "      <th>49</th>\n",
       "      <td>La Food Marketa</td>\n",
       "      <td>4.0</td>\n",
       "      <td>39.384550</td>\n",
       "      <td>-76.689710</td>\n",
       "      <td>223</td>\n",
       "    </tr>\n",
       "  </tbody>\n",
       "</table>\n",
       "</div>"
      ],
      "text/plain": [
       "                                     Name  Rating   Latitude  Longitude  \\\n",
       "0                     Tortilleria Sinaloa     4.5  39.285810 -76.592510   \n",
       "1               Vida Taco Bar - Baltimore     4.0  39.280318 -76.597640   \n",
       "2                       Cocina Luchadoras     4.5  39.288384 -76.593388   \n",
       "3                                  Clavel     4.5  39.314947 -76.620373   \n",
       "4                         Tijuana Tacos 3     4.0  39.292088 -76.574608   \n",
       "5                            Papi's Tacos     4.0  39.283377 -76.592852   \n",
       "6                               Taco Town     4.5  39.289245 -76.621661   \n",
       "7            Taqueria el Sabor del Parque     4.0  39.286091 -76.575645   \n",
       "8                             Mi Comalito     4.0  39.313360 -76.616370   \n",
       "9                               La Cabana     4.0  39.294776 -76.524500   \n",
       "10                 San Pablo Street Tacos     3.5  39.298802 -76.614407   \n",
       "11                 Papi's Tacos - Hampden     4.0  39.334270 -76.636260   \n",
       "12                        Cholita's Tacos     4.0  39.295965 -76.619090   \n",
       "13                              Pop Tacos     4.5  39.276500 -76.613510   \n",
       "14                      Cinco de Mayo Dos     4.5  39.285375 -76.598565   \n",
       "15                        El Taquito Leon     4.0  39.385012 -76.574345   \n",
       "16                     Taco Noche Rotunda     4.0  39.335710 -76.630490   \n",
       "17                    Taqueria El Cabrito     5.0  39.249390 -76.693380   \n",
       "18                               Charmed.     5.0  39.299510 -76.613340   \n",
       "19                             Amano Taco     3.0  39.321812 -76.622028   \n",
       "20                               La Calle     4.5  39.289172 -76.610983   \n",
       "21                 Banditos Bar & Kitchen     3.5  39.276260 -76.614680   \n",
       "22        Chilangos Tequila Bar and Grill     4.5  39.281597 -76.589391   \n",
       "23                            Taco Fiesta     3.5  39.283585 -76.600015   \n",
       "24                                Maximón     4.0  39.282371 -76.602488   \n",
       "25    Blue Agave Restaurante y Tequileria     3.5  39.277255 -76.612497   \n",
       "26       Los Mariachis Spanish Restaurant     4.5  39.285690 -76.584938   \n",
       "27               Charro Negro Bar & Grill     4.0  39.286888 -76.556701   \n",
       "28  Cinco De Mayo Tacqueria Y Tortilleria     4.0  39.287307 -76.569160   \n",
       "29                                Ruben's     4.5  39.277280 -76.614150   \n",
       "30                           R&R Taqueria     3.0  39.287841 -76.614831   \n",
       "31              Guacamole Mexican Cuisine     4.0  39.249619 -76.638821   \n",
       "32                              Barcocina     3.0  39.281164 -76.593239   \n",
       "33                    El Taquito Mexicano     3.5  39.285801 -76.591727   \n",
       "34                               R. House     4.0  39.321713 -76.622293   \n",
       "35                El Trovador Latin Grill     4.5  39.389036 -76.542737   \n",
       "36               Cinco De Mayo Restaurant     4.0  39.285812 -76.592461   \n",
       "37                          Holy Frijoles     3.0  39.331645 -76.632153   \n",
       "38                          Little Havana     3.5  39.274755 -76.603213   \n",
       "39                          The Jolly Pig     4.5  39.311196 -76.616473   \n",
       "40                      Los Tres Hermanos     4.5  39.291650 -76.565800   \n",
       "41                  Poblano Mexican Grill     3.5  39.301860 -76.618738   \n",
       "42        El Bufalo Tequila Bar & Kitchen     3.5  39.280002 -76.574604   \n",
       "43                        Woody's Cantina     3.0  39.281990 -76.592690   \n",
       "44            La China Poblana Restaurant     4.5  39.286915 -76.554604   \n",
       "45                   The Latin Spot Grill     5.0  39.275796 -76.614553   \n",
       "46              Gypsy Queen Truckstaurant     4.0  39.328529 -76.640227   \n",
       "47                          Los Rancheros     3.5  39.352640 -76.561630   \n",
       "48               Mount Vernon Marketplace     4.5  39.295902 -76.618819   \n",
       "49                        La Food Marketa     4.0  39.384550 -76.689710   \n",
       "\n",
       "    Number_of_Reviews  \n",
       "0                 372  \n",
       "1                 193  \n",
       "2                 148  \n",
       "3                 711  \n",
       "4                 177  \n",
       "5                 477  \n",
       "6                  51  \n",
       "7                 110  \n",
       "8                 123  \n",
       "9                  12  \n",
       "10                 47  \n",
       "11                 94  \n",
       "12                 69  \n",
       "13                179  \n",
       "14                 79  \n",
       "15                  6  \n",
       "16                  2  \n",
       "17                 22  \n",
       "18                 55  \n",
       "19                 66  \n",
       "20                162  \n",
       "21                172  \n",
       "22                 47  \n",
       "23                233  \n",
       "24                 64  \n",
       "25                468  \n",
       "26                 37  \n",
       "27                 10  \n",
       "28                 21  \n",
       "29                 53  \n",
       "30                 65  \n",
       "31                  5  \n",
       "32                679  \n",
       "33                 60  \n",
       "34                479  \n",
       "35                162  \n",
       "36                 28  \n",
       "37                352  \n",
       "38                454  \n",
       "39                 29  \n",
       "40                  3  \n",
       "41                 93  \n",
       "42                108  \n",
       "43                149  \n",
       "44                  9  \n",
       "45                  1  \n",
       "46                129  \n",
       "47                 33  \n",
       "48                219  \n",
       "49                223  "
      ]
     },
     "execution_count": 17,
     "metadata": {},
     "output_type": "execute_result"
    }
   ],
   "source": [
    "#view data and save it as businesses\n",
    "\n",
    "businesses = pd.read_csv('businesses.csv', index_col= 0)\n",
    "pd.read_csv('businesses.csv', index_col= 0)"
   ]
  },
  {
   "cell_type": "code",
   "execution_count": 18,
   "metadata": {},
   "outputs": [
    {
     "name": "stdout",
     "output_type": "stream",
     "text": [
      "<class 'pandas.core.frame.DataFrame'>\n",
      "Int64Index: 50 entries, 0 to 49\n",
      "Data columns (total 5 columns):\n",
      " #   Column             Non-Null Count  Dtype  \n",
      "---  ------             --------------  -----  \n",
      " 0   Name               50 non-null     object \n",
      " 1   Rating             50 non-null     float64\n",
      " 2   Latitude           50 non-null     float64\n",
      " 3   Longitude          50 non-null     float64\n",
      " 4   Number_of_Reviews  50 non-null     int64  \n",
      "dtypes: float64(3), int64(1), object(1)\n",
      "memory usage: 2.3+ KB\n"
     ]
    }
   ],
   "source": [
    "#check if there are missing values\n",
    "\n",
    "businesses.info()"
   ]
  },
  {
   "cell_type": "code",
   "execution_count": 19,
   "metadata": {},
   "outputs": [
    {
     "data": {
      "text/plain": [
       "<matplotlib.axes._subplots.AxesSubplot at 0x23b84a2f400>"
      ]
     },
     "execution_count": 19,
     "metadata": {},
     "output_type": "execute_result"
    },
    {
     "data": {
      "image/png": "[encoded data removed]",
      "text/plain": [
       "<Figure size 432x288 with 1 Axes>"
      ]
     },
     "metadata": {
      "needs_background": "light"
     },
     "output_type": "display_data"
    }
   ],
   "source": [
    "#checking outliers for the Number of Reviews\n",
    "\n",
    "businesses.Number_of_Reviews.plot(kind = 'box')"
   ]
  },
  {
   "cell_type": "code",
   "execution_count": 20,
   "metadata": {},
   "outputs": [
    {
     "data": {
      "text/plain": [
       "150.8"
      ]
     },
     "execution_count": 20,
     "metadata": {},
     "output_type": "execute_result"
    }
   ],
   "source": [
    "#check mean for Number of Reviews\n",
    "\n",
    "businesses.Number_of_Reviews.mean()"
   ]
  },
  {
   "cell_type": "code",
   "execution_count": 21,
   "metadata": {},
   "outputs": [
    {
     "data": {
      "text/plain": [
       "<matplotlib.axes._subplots.AxesSubplot at 0x23b85192130>"
      ]
     },
     "execution_count": 21,
     "metadata": {},
     "output_type": "execute_result"
    },
    {
     "data": {
      "image/png": "[encoded data removed]",
      "text/plain": [
       "<Figure size 432x288 with 1 Axes>"
      ]
     },
     "metadata": {
      "needs_background": "light"
     },
     "output_type": "display_data"
    }
   ],
   "source": [
    "#check outliers Ratings\n",
    "businesses.Rating.plot(kind = 'box')"
   ]
  },
  {
   "cell_type": "code",
   "execution_count": 22,
   "metadata": {},
   "outputs": [
    {
     "data": {
      "text/plain": [
       "4.02"
      ]
     },
     "execution_count": 22,
     "metadata": {},
     "output_type": "execute_result"
    }
   ],
   "source": [
    "#check mean for Ratings\n",
    "\n",
    "businesses.Rating.mean()"
   ]
  },
  {
   "cell_type": "code",
   "execution_count": 23,
   "metadata": {},
   "outputs": [
    {
     "data": {
      "image/png": "[encoded data removed]",
      "text/plain": [
       "<Figure size 432x288 with 1 Axes>"
      ]
     },
     "metadata": {
      "needs_background": "light"
     },
     "output_type": "display_data"
    }
   ],
   "source": [
    "#show where the restaurants are in relation to each other\n",
    "\n",
    "businesses.plot(kind=\"scatter\", x = \"Longitude\", y = \"Latitude\", alpha=0.4, color = \"magenta\")\n",
    "plt.show()"
   ]
  },
  {
   "cell_type": "code",
   "execution_count": 24,
   "metadata": {},
   "outputs": [
    {
     "data": {
      "image/png": "[encoded data removed]",
      "text/plain": [
       "<Figure size 432x288 with 1 Axes>"
      ]
     },
     "metadata": {
      "needs_background": "light"
     },
     "output_type": "display_data"
    }
   ],
   "source": [
    "#create bar graph that displays the ratings\n",
    "\n",
    "plt.bar(\"Name\", \"Rating\",  data = businesses, color = \"gold\")\n",
    "plt.ylabel(\"Rating\")\n",
    "plt.xlabel(\"Restaurant Name\")\n",
    "plt.xticks(rotation = 90)\n",
    "plt.title(\"Ratings\")\n",
    "plt.show()"
   ]
  },
  {
   "cell_type": "code",
   "execution_count": 25,
   "metadata": {},
   "outputs": [
    {
     "data": {
      "image/png": "[encoded data removed]",
      "text/plain": [
       "<Figure size 432x288 with 1 Axes>"
      ]
     },
     "metadata": {
      "needs_background": "light"
     },
     "output_type": "display_data"
    }
   ],
   "source": [
    "#create bar graph that displays the number of reviews\n",
    "\n",
    "plt.bar(\"Name\", \"Number_of_Reviews\",  data = businesses, color = \"aqua\")\n",
    "plt.ylabel(\"Number of Reviews\")\n",
    "plt.xlabel(\"Restaurant Name\")\n",
    "plt.xticks(rotation = 90)\n",
    "plt.title(\"Number of Reviews\")\n",
    "plt.show()"
   ]
  }
 ],
 "metadata": {
  "kernelspec": {
   "display_name": "Python 3",
   "language": "python",
   "name": "python3"
  },
  "language_info": {
   "codemirror_mode": {
    "name": "ipython",
    "version": 3
   },
   "file_extension": ".py",
   "mimetype": "text/x-python",
   "name": "python",
   "nbconvert_exporter": "python",
   "pygments_lexer": "ipython3",
   "version": "3.8.3"
  }
 },
 "nbformat": 4,
 "nbformat_minor": 4
}
